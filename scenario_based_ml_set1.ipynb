{
 "cells": [
  {
   "cell_type": "raw",
   "id": "3e34b653-ab5d-4330-a6d3-f723f5df3766",
   "metadata": {},
   "source": [
    "#1. A real estate company wants to develop a system that predicts house prices based on\n",
    "#square footage, number of bedrooms, and location.\n",
    "#Q: Identify the problem type and outline the step-by-step logic to solve it\n"
   ]
  },
  {
   "cell_type": "code",
   "execution_count": 1,
   "id": "89d60150-dd7c-4c75-b91f-585827238b20",
   "metadata": {},
   "outputs": [],
   "source": [
    "\n",
    "#Goal: Build a model that takes (square footage, bedrooms, location) → predicts price.\n",
    "#Features: Square footage (numeric), bedrooms (numeric), location (categorical)\n",
    "#Handle Missing Values: Fill or remove missing entries.\n",
    "#Encode Categorical Data: Convert Location into numbers (OneHotEncoding).\n",
    "#Feature Scaling (optional): Scale features like square footage (StandardScaler/MinMaxScaler).\n",
    "#Use train_test_split (e.g. 80% training, 20% testing).\n",
    "#Start simple with Linear Regression.\n",
    "#(Optional) Try advanced models like Decision Trees, Random Forest, or XGBoost for better accuracy.\n",
    "#R² Score\n",
    "#Feature engineering (e.g., add “price per square foot”)."
   ]
  },
  {
   "cell_type": "raw",
   "id": "e130357f-366f-40c3-8c12-2df7645bd92f",
   "metadata": {},
   "source": [
    "#2. A bank wants to build a model to detect fraudulent transactions by analyzing customer \n",
    "#spending behavior and transaction history. \n",
    "#Q: Identify the problem type and outline the step-by-step logic to solve it."
   ]
  },
  {
   "cell_type": "code",
   "execution_count": 7,
   "id": "133450f8-c55c-4972-8c69-996075a390e0",
   "metadata": {},
   "outputs": [],
   "source": [
    "# 1. Collect Data - past transactions (amount, time, location, fraud label)\n",
    "# 2. Preprocess - handle missing data, encode categorical columns, scale numeric features, balance fraud/non-fraud data\n",
    "# 3. Split Data - use train_test_split() to create training and test sets\n",
    "# 4. Train Model - start with LogisticRegression, then try RandomForest or XGBoost\n",
    "# 5. Evaluate - check precision, recall, F1-score, and ROC-AUC (not just accuracy)\n",
    "# 6. Improve - feature engineering (e.g. sudden spending spikes), hyperparameter tuning\n",
    "# 7. Deploy - connect the model to the bank system for real-time fraud alerts"
   ]
  },
  {
   "cell_type": "raw",
   "id": "0403534e-a009-40c1-80be-604b102eb709",
   "metadata": {},
   "source": [
    "#3. A supermarket wants to segment its customers based on their shopping patterns to \n",
    "#provide personalized promotions. \n",
    "#Q: Identify the problem type and outline the step-by-step logic to solve it."
   ]
  },
  {
   "cell_type": "code",
   "execution_count": 10,
   "id": "032ea22c-3ec3-4913-be58-6fabf87cccc0",
   "metadata": {},
   "outputs": [],
   "source": [
    "# 1. Collect Data - purchase history, product categories, frequency, spending amount\n",
    "# 2. Preprocess - handle missing data, scale numeric features, encode categorical data\n",
    "# 3. Choose Clustering Method - start with KMeans (or try Hierarchical/DBSCAN)\n",
    "# 4. Find Optimal Clusters - use Elbow Method or Silhouette Score\n",
    "# 5. Train the Model - fit KMeans on customer data\n",
    "# 6. Label Segments - assign each customer to a cluster (e.g., Premium, Bargain Hunter)\n",
    "# 7. Analyze & Act - create targeted promotions for each segment"
   ]
  },
  {
   "cell_type": "raw",
   "id": "d73396c8-7696-4b0f-bddc-5f8f2cb7a079",
   "metadata": {},
   "source": [
    "#4. A company wants to estimate an employee’s salary based on their years of experience, \n",
    "#job title, and education level. \n",
    "#Q: Identify the problem type and outline the step-by-step logic to solve it. "
   ]
  },
  {
   "cell_type": "code",
   "execution_count": 11,
   "id": "8df31e52-85b4-4310-a932-59c4843fed7d",
   "metadata": {},
   "outputs": [],
   "source": [
    "# 1. Collect Data - gather employee salary data (years of experience, job title, education level)\n",
    "# 2. Preprocess - handle missing values, encode job title and education, scale numerical features if needed\n",
    "# 3. Split Data - use train_test_split() to create training and test sets\n",
    "# 4. Choose Model - start with LinearRegression, try RandomForestRegressor or XGBoost for better accuracy\n",
    "# 5. Train the Model - fit the model on the training set\n",
    "# 6. Evaluate the Model - use MAE, RMSE, and R2 score to measure performance\n",
    "# 7. Improve - add new features, tune hyperparameters for better predictions\n",
    "# 8. Deploy - integrate into HR or payroll system for instant salary estimation"
   ]
  },
  {
   "cell_type": "code",
   "execution_count": 12,
   "id": "60e74692-a255-4e66-8173-1ed98a07db62",
   "metadata": {},
   "outputs": [],
   "source": [
    "#5. An email provider wants to automatically classify incoming emails as spam or not spam \n",
    "#based on their content and sender details. \n",
    "#Q: Identify the problem type and outline the step-by-step logic to solve it. "
   ]
  },
  {
   "cell_type": "code",
   "execution_count": 13,
   "id": "b7bd8a61-0afe-404a-9471-733fee606a15",
   "metadata": {},
   "outputs": [],
   "source": [
    "# 1. Collect Data - gather emails labeled as spam or not spam (content + sender info)\n",
    "# 2. Preprocess - clean text (remove punctuation, stopwords), tokenize, convert to numerical form (TF-IDF or CountVectorizer)\n",
    "# 3. Split Data - use train_test_split() to create training and test sets\n",
    "# 4. Choose Model - start with NaiveBayes (good for text), also try LogisticRegression or RandomForest\n",
    "# 5. Train the Model - fit on training data\n",
    "# 6. Evaluate the Model - use accuracy, precision, recall, F1-score to measure performance\n",
    "# 7. Improve - tune hyperparameters, add features (e.g. sender reputation)\n",
    "# 8. Deploy - integrate into email system to filter spam in real-time"
   ]
  },
  {
   "cell_type": "raw",
   "id": "da288e8b-d679-42a3-83ef-ff634c24fec5",
   "metadata": {},
   "source": [
    "#6. A business wants to analyze customer reviews of its products and determine whether \n",
    "#the sentiment is positive or negative. \n",
    "#Q: Identify the problem type and outline the step-by-step logic to solve it. "
   ]
  },
  {
   "cell_type": "code",
   "execution_count": 15,
   "id": "bea3112a-111d-4a3d-b83a-5d52ae5bba36",
   "metadata": {},
   "outputs": [],
   "source": [
    "# 1. Collect Data - gather product reviews labeled as positive or negative\n",
    "# 2. Preprocess - clean text (remove punctuation, stopwords), tokenize, convert to numerical form (TF-IDF or CountVectorizer)\n",
    "# 3. Split Data - use train_test_split() to create training and test sets\n",
    "# 4. Choose Model - start with NaiveBayes (great for text), also try LogisticRegression or deep learning models\n",
    "# 5. Train the Model - fit the model on the training data\n",
    "# 6. Evaluate the Model - use accuracy, precision, recall, F1-score for performance\n",
    "# 7. Improve - tune hyperparameters, add more labeled data, test advanced models (e.g. BERT)\n",
    "# 8. Deploy - integrate into business dashboard or review system to monitor sentiment in real time"
   ]
  },
  {
   "cell_type": "raw",
   "id": "b6223499-2202-437c-85e9-436067216e08",
   "metadata": {},
   "source": [
    "#7. An insurance company wants to predict whether a customer is likely to file a claim in the \n",
    "#next year based on their driving history and demographics. \n",
    "#Q: Identify the problem type and outline the step-by-step logic to solve it. "
   ]
  },
  {
   "cell_type": "code",
   "execution_count": 16,
   "id": "7d967c59-2db6-4ac1-8b68-1fbacc8d1369",
   "metadata": {},
   "outputs": [],
   "source": [
    "# 1. Collect Data - gather past customer data (driving history, demographics, and whether they filed a claim)\n",
    "# 2. Preprocess - handle missing values, encode categorical features (e.g. gender, region), scale numerical features if needed\n",
    "# 3. Split Data - use train_test_split() to create training and test sets\n",
    "# 4. Choose Model - start with LogisticRegression, also try RandomForestClassifier or XGBoost\n",
    "# 5. Train the Model - fit the model on the training set\n",
    "# 6. Evaluate the Model - use accuracy, precision, recall, F1-score, and ROC-AUC to measure performance\n",
    "# 7. Improve - tune hyperparameters, add new features (e.g. driving score), balance classes if claims are rare\n",
    "# 8. Deploy - integrate the model into the insurance system to predict claim risk in real time"
   ]
  },
  {
   "cell_type": "raw",
   "id": "67894866-eef4-494c-9efd-327a51046047",
   "metadata": {},
   "source": [
    "#8. A streaming platform wants to recommend movies to users by grouping them based on \n",
    "#their viewing preferences and watch history. \n",
    "#Q: Identify the problem type and outline the step-by-step logic to solve it."
   ]
  },
  {
   "cell_type": "code",
   "execution_count": 17,
   "id": "eab2fff7-d3e2-4ad2-a4aa-08944c5464a6",
   "metadata": {},
   "outputs": [],
   "source": [
    "# 1. Collect Data - gather user viewing history (movies watched, ratings, genres)\n",
    "# 2. Preprocess - clean data, handle missing values, encode movie genres or tags if needed\n",
    "# 3. Choose Approach - \n",
    "#    - Collaborative filtering (users with similar tastes)\n",
    "#    - Content-based filtering (recommend movies with similar attributes)\n",
    "#    - Or a hybrid of both\n",
    "# 4. Build User-Item Matrix - map users to the movies they have watched or rated\n",
    "# 5. Train Model - \n",
    "#    - For clustering users: use KMeans or other clustering\n",
    "#    - For collaborative filtering: use matrix factorization (SVD)\n",
    "# 6. Generate Recommendations - suggest movies to each user based on their cluster or neighbors\n",
    "# 7. Evaluate - use metrics like precision@k, recall@k, or hit rate to see how good the recommendations are\n",
    "# 8. Deploy - integrate into the streaming platform so users see recommendations in real time"
   ]
  },
  {
   "cell_type": "raw",
   "id": "fb4351f4-ab63-4bbf-b352-6c1428b19172",
   "metadata": {},
   "source": [
    "#9. A hospital wants to predict the recovery time of patients after surgery based on their age,\n",
    "#medical history, and lifestyle habits.\n",
    "#Q: Identify the problem type and outline the step-by-step logic to solve it."
   ]
  },
  {
   "cell_type": "code",
   "execution_count": 18,
   "id": "ec0c6d28-801f-41e9-b488-41217b5ac0b3",
   "metadata": {},
   "outputs": [],
   "source": [
    "# 1. Collect Data - gather patient data (age, medical history, lifestyle habits, and actual recovery time)\n",
    "# 2. Preprocess - handle missing values, encode categorical features (e.g. medical conditions), scale numerical features if needed\n",
    "# 3. Split Data - use train_test_split() to create training and test sets\n",
    "# 4. Choose Model - start with LinearRegression, also try RandomForestRegressor or XGBoost\n",
    "# 5. Train the Model - fit the model on the training data\n",
    "# 6. Evaluate the Model - use MAE, RMSE, and R2 score to measure prediction performance\n",
    "# 7. Improve - add new features (e.g. surgery type, post-op care quality), tune hyperparameters for better accuracy\n",
    "# 8. Deploy - integrate into hospital systems to estimate recovery times for new patients"
   ]
  },
  {
   "cell_type": "code",
   "execution_count": null,
   "id": "ebb6febd-682e-4977-b957-332670045c7c",
   "metadata": {},
   "outputs": [],
   "source": []
  }
 ],
 "metadata": {
  "kernelspec": {
   "display_name": "Python 3 (ipykernel)",
   "language": "python",
   "name": "python3"
  },
  "language_info": {
   "codemirror_mode": {
    "name": "ipython",
    "version": 3
   },
   "file_extension": ".py",
   "mimetype": "text/x-python",
   "name": "python",
   "nbconvert_exporter": "python",
   "pygments_lexer": "ipython3",
   "version": "3.11.5"
  }
 },
 "nbformat": 4,
 "nbformat_minor": 5
}
