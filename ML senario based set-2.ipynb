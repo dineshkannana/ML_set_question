{
 "cells": [
  {
   "cell_type": "raw",
   "id": "dfe317a4-da7d-4f3c-b9a7-a4304cc79357",
   "metadata": {},
   "source": [
    "1. A bank wants to predict whether a loan applicant will default based on credit score,\n",
    "income, and past loan history. What type of ML problem is this, and what steps would\n",
    "you take to solve it?"
   ]
  },
  {
   "cell_type": "code",
   "execution_count": 2,
   "id": "0098a2c3-5735-4852-976f-cb76d7958c75",
   "metadata": {},
   "outputs": [],
   "source": [
    "# 1: Collect data – credit score, income, past loan history, and default status\n",
    "# 2: Preprocess – clean, encode, scale features\n",
    "# 3: Split data into training and testing sets\n",
    "# 4: Train model\n",
    "# 5: Evaluate model"
   ]
  },
  {
   "cell_type": "raw",
   "id": "b0a07165-1f64-4359-898d-16958bb1381d",
   "metadata": {},
   "source": [
    "2. A retail store wants to predict the demand for different products to optimize inventory\n",
    "levels. What type of ML problem is this, and what steps would you take to solve it?"
   ]
  },
  {
   "cell_type": "code",
   "execution_count": 3,
   "id": "360de1f9-4da6-481d-8202-b54f5edca562",
   "metadata": {},
   "outputs": [],
   "source": [
    "# 1:Collect past sales & product data\n",
    "# 2:Clean & preprocess (handle missing values, encode, scale)\n",
    "# 3:Split into train/test\n",
    "# 4:Train a regression model (Linear Regression, Random Forest)\n",
    "# 5:Evaluate (RMSE, MAE)\n",
    "# 6:Deploy to predict future demand & manage inventory"
   ]
  },
  {
   "cell_type": "raw",
   "id": "12ccbb37-a62e-4532-8053-2c62dd62df36",
   "metadata": {},
   "source": [
    "3. A factory wants to detect whether a manufactured product is defective based on sensor\n",
    "readings and quality control data. What type of ML problem is this, and what steps would\n",
    "you take to solve it?"
   ]
  },
  {
   "cell_type": "code",
   "execution_count": 4,
   "id": "5480b0e8-f148-4f34-932a-23b354d5428f",
   "metadata": {},
   "outputs": [],
   "source": [
    "# 1:Collect sensor & QC data with defect labels\n",
    "# 2:Clean & preprocess (encode, scale)\n",
    "# 3:Split into train/test sets\n",
    "# 4:Train classification model (e.g. Random Forest)\n",
    "# 5:Evaluate (accuracy, recall)\n",
    "# 6:Deploy to flag defective products in real time\n"
   ]
  },
  {
   "cell_type": "raw",
   "id": "2ba9b002-e6f4-4f19-b858-929ebc39da7a",
   "metadata": {},
   "source": [
    "4. A healthcare provider wants to analyze patient symptoms and classify them into different\n",
    "disease categories. What type of ML problem is this, and what steps would you take to\n",
    "solve it?"
   ]
  },
  {
   "cell_type": "code",
   "execution_count": 5,
   "id": "e93ec2d5-e8f6-45fc-8b0e-66d010719fbd",
   "metadata": {},
   "outputs": [],
   "source": [
    "# 1:Collect patient symptoms + disease labels\n",
    "# 2:Clean & preprocess data\n",
    "# 3:Split train/test\n",
    "# 4:Train multi‑class model (e.g. Random Forest)\n",
    "# 1:Evaluate (accuracy, recall)\n",
    "# 5:Deploy for diagnosis support"
   ]
  },
  {
   "cell_type": "raw",
   "id": "eb9cd87d-ce31-48cf-aa1c-03c694e354fb",
   "metadata": {},
   "source": [
    "5. An e-commerce company wants to identify and remove fake reviews posted by bots or\n",
    "fraudsters. What type of ML problem is this, and what steps would you take to solve it?"
   ]
  },
  {
   "cell_type": "code",
   "execution_count": 6,
   "id": "7a3bbcce-f88e-4f9b-b01d-94a2a116d8c4",
   "metadata": {},
   "outputs": [],
   "source": [
    "# 1:Collect labeled reviews (fake/real)\n",
    "# 2:Clean & preprocess text (remove stopwords, tokenize, vectorize)\n",
    "# 3:Split train/test\n",
    "# 4:Train classifier (Logistic Regression, Random Forest, or NLP model)\n",
    "# 5:Evaluate (precision, recall, F1)\n",
    "# 6:Deploy to flag and remove fake reviews"
   ]
  },
  {
   "cell_type": "raw",
   "id": "dbd96de9-0cd9-4ab0-b8b5-03a72b850712",
   "metadata": {},
   "source": [
    "6. A financial firm wants to predict stock price movements based on historical price data\n",
    "and market indicators. What type of ML problem is this, and what steps would you take\n",
    "to solve it?"
   ]
  },
  {
   "cell_type": "code",
   "execution_count": 7,
   "id": "0bec7a1b-9968-4399-b9a0-4ee00599752e",
   "metadata": {},
   "outputs": [],
   "source": [
    "# 1:Collect historical prices & market indicators\n",
    "# 2:Clean & preprocess (handle missing data, scale features)\n",
    "# 3:Create features (moving averages, trends)\n",
    "# 4:Create features (moving averages, trends)\n",
    "# 5:Split into train/test\n",
    "# 6:Train regression model (Linear Regression, LSTM for time series)\n",
    "# 7:Evaluate (RMSE, MAE)\n",
    "# 8:Deploy for stock price prediction"
   ]
  },
  {
   "cell_type": "raw",
   "id": "bb7af8d4-0bf0-45cb-8aac-671f189d65af",
   "metadata": {},
   "source": [
    "7. A social media platform wants to detect fake user accounts based on user activity and\n",
    "profile data. What type of ML problem is this, and what steps would you take to solve it?"
   ]
  },
  {
   "cell_type": "code",
   "execution_count": 8,
   "id": "72ad1f5d-b244-4120-956b-2fc62200cf88",
   "metadata": {},
   "outputs": [],
   "source": [
    "# 1:Collect labeled user data (real/fake)\n",
    "# 2:Clean & preprocess (handle missing values, encode features)\n",
    "# 3:Split into train/test sets\n",
    "# 4:Train classifier (Logistic Regression, Random Forest, XGBoost)\n",
    "# 5:Evaluate (accuracy, precision, recall)\n",
    "# 6:Deploy to flag/remove fake accounts automatically"
   ]
  },
  {
   "cell_type": "raw",
   "id": "e2644bce-865d-4d86-b65d-615eb379b2c7",
   "metadata": {},
   "source": [
    "8. A marketing agency wants to segment customers into different groups based on their\n",
    "purchasing behavior. What type of ML problem is this, and what steps would you take to\n",
    "solve it?"
   ]
  },
  {
   "cell_type": "code",
   "execution_count": 9,
   "id": "c357d39d-8dd9-49c1-872d-63b605e7b1be",
   "metadata": {},
   "outputs": [],
   "source": [
    "# 1:Collect purchase data\n",
    "# 2:Clean & scale features\n",
    "# 3:Run clustering (e.g. K‑Means)\n",
    "# 4:Find best number of clusters\n",
    "# 5:Assign cluster labels for targeted marketing"
   ]
  },
  {
   "cell_type": "raw",
   "id": "50d13b2d-96c9-48f2-8c80-4e8fa29564a0",
   "metadata": {},
   "source": [
    "9. A geospatial research team wants to analyze satellite images to classify different land\n",
    "types (forest, water, urban). What type of ML problem is this, and what steps would you\n",
    "take to solve it?"
   ]
  },
  {
   "cell_type": "code",
   "execution_count": 10,
   "id": "3f1c0bf1-840e-4e61-83ba-4864d2a22843",
   "metadata": {},
   "outputs": [],
   "source": [
    "# 1:Collect labeled satellite images\n",
    "# 2:Preprocess (resize, normalize images)\n",
    "# 3:Split train/test sets\n",
    "# 4:Train a CNN (Convolutional Neural Network)\n",
    "# 5:Evaluate (accuracy, per‑class metrics)\n",
    "# 6:Deploy for automatic land type classification"
   ]
  },
  {
   "cell_type": "raw",
   "id": "53a4a4e2-20ac-4be1-948c-fefb82cc3097",
   "metadata": {},
   "source": [
    "10. A streaming service wants to predict which users are likely to cancel their subscriptions.\n",
    "What type of ML problem is this, and what steps would you take to solve it?"
   ]
  },
  {
   "cell_type": "code",
   "execution_count": null,
   "id": "013e8d86-3ada-4bda-8c71-1a91bd2333d6",
   "metadata": {},
   "outputs": [],
   "source": [
    "# 1:Collect user data (watch habits, usage time, payment history)\n",
    "\n",
    "# 2:Clean & preprocess (handle missing data, encode categories)\n",
    "\n",
    "# 3:Split into train/test sets\n",
    "\n",
    "# 4:Train a classification model (Logistic Regression, Random Forest, XGBoost)\n",
    "\n",
    "# 5:Evaluate (accuracy, precision, recall)\n",
    "# 6:Deploy to predict and prevent churn (offer retention deals)"
   ]
  }
 ],
 "metadata": {
  "kernelspec": {
   "display_name": "Python 3 (ipykernel)",
   "language": "python",
   "name": "python3"
  },
  "language_info": {
   "codemirror_mode": {
    "name": "ipython",
    "version": 3
   },
   "file_extension": ".py",
   "mimetype": "text/x-python",
   "name": "python",
   "nbconvert_exporter": "python",
   "pygments_lexer": "ipython3",
   "version": "3.11.5"
  }
 },
 "nbformat": 4,
 "nbformat_minor": 5
}
